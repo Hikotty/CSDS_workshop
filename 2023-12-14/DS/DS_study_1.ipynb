{
  "cells": [
    {
      "cell_type": "markdown",
      "metadata": {
        "id": "upcKIqEXZiGz"
      },
      "source": [
        "# 第1回勉強会資料\n"
      ]
    },
    {
      "cell_type": "markdown",
      "metadata": {
        "id": "HbI_DvoaZgaF"
      },
      "source": [
        "## 本日のコンテンツ\n",
        "\n",
        "- 環境構築\n",
        "  - pandasのインストール\n",
        "  - numpyのインストール\n",
        "  - matplotlinのインストール\n",
        "  - scikit-learnのインストール\n",
        "- 統計学入門\n",
        "  - 統計学とは何か\n",
        "  - 統計学の目的\n",
        "  - データとその種類\n",
        "  - 1次元データの扱い\n",
        "    - ヒストグラム\n",
        "    - 代表値\n",
        "      - 平均値\n",
        "      - 中央値\n",
        "      - 最頻値"
      ]
    },
    {
      "cell_type": "markdown",
      "metadata": {
        "id": "sgNHL1e-ZfeS"
      },
      "source": [
        "## 環境構築"
      ]
    },
    {
      "cell_type": "markdown",
      "metadata": {
        "id": "zytLorHecT8O"
      },
      "source": [
        "### pythonのバージョン確認\n",
        "\n",
        "コマンドラインで\n",
        "\n",
        "`python3 --version`\n",
        "\n",
        "3.11以上でない場合は再インストール\n",
        "\n",
        "### モジュール類のインストール\n",
        "- pythonのモジュール類はpipを使って入れるのがよい\n",
        "  - venvなどを使ってパッケージを管理する方法もあるが、初学者には扱いにくい\n",
        "\n",
        "#### matplotlib\n",
        "matplotlibは図を描画するためのライブラリ   \n",
        "データサイエンスにおいてデータの可視化は必須  \n",
        "`python3 -m pip install matplotlib`\n",
        "\n",
        "#### numpy\n",
        "numpyはデータの加工に便利な関数が多数用意されている  \n",
        "`python3 -m pip install numpy`\n",
        "\n",
        "#### pandas\n",
        "テーブルデータ（表形式のデータ）を扱うためのライブラリ  \n",
        "`python3 -m pip install matplotlib`\n",
        "\n",
        "#### scikit-learn\n",
        "機械学習モデルを構築したりや機械学習モデルの性能評価指標を計算するためのライブラリ  \n",
        "`python3 -m pip install sklearn`  "
      ]
    },
    {
      "cell_type": "code",
      "execution_count": 43,
      "metadata": {
        "id": "cI4NCqVfWRHW"
      },
      "outputs": [],
      "source": [
        "# きちんとインストールできているか確認する\n",
        "import matplotlib.pyplot as plt\n",
        "import numpy as np\n",
        "import pandas as pd\n",
        "import sklearn"
      ]
    },
    {
      "cell_type": "code",
      "execution_count": 44,
      "metadata": {},
      "outputs": [
        {
          "data": {
            "image/png": "[encoded data removed]",
            "text/plain": [
              "<Figure size 1000x500 with 1 Axes>"
            ]
          },
          "metadata": {},
          "output_type": "display_data"
        }
      ],
      "source": [
        "# 最もシンプルなmatplotlibの使い方\n",
        "# リストの中身をグラフにする\n",
        "\n",
        "x = [1,2,3,1,2,3,4,5,6]\n",
        "\n",
        "plt.figure(figsize=[10,5])\n",
        "plt.plot(x)\n",
        "plt.show()"
      ]
    },
    {
      "cell_type": "markdown",
      "metadata": {
        "id": "k2tcMTDYtzPC"
      },
      "source": [
        "## 統計学入門\n",
        "\n",
        "### 統計学の目的\n",
        "人々の経済行動や天気の移り変わり，ECサイトの販売データや薬品の生物に対する影響など，世の中には一度の観測からはなんとも言えないが，全体的になんらかの法則性を持つであろう事象が存在する.  \n",
        "\n",
        "統計学はこれらの現象から何らかの法則性を見出し，活用しようとするための方法論である. \n",
        "\n",
        "特に，観測し得るすべての事象について丹念に調査し，データ全体からその傾向を掴もうとする営みは**記述統計学**と呼ばれる.  \n",
        "一方で，確率論を用いて，一部のデータから全体のデータについて論理的に推測しようとする試みは**統計的推測**と呼ばれる.  \n",
        "\n",
        "### データとその種類\n",
        "ではどのようなデータが具体的に分析されるのか．データは例えば次のように分類できる.  \n",
        "\n",
        "- 構造化データ\n",
        "  - 定量的データ\n",
        "    - 連続データ\n",
        "      - ある一定の範囲でどのような細かい値でも取り得るデータ.\n",
        "        - 例：重量，身長，時間\n",
        "        - 重量は1gも1.11gも1.11111111gも取り得る．\n",
        "    - 離散データ\n",
        "      - ある一定の値のみを取るデータ\n",
        "        - 例：車の台数，試験の点数，人数など\n",
        "        - 人数が14.4人などになることはない\n",
        "  - 定性的データ\n",
        "    - 名義データ\n",
        "      - カテゴリを表すデータであり，大小関係や順序が意味を持たないようなデータ\n",
        "        - 例：血液型，性別，国勢\n",
        "        - A型よりB型の方が大きいや小さいといったことを考えることはない\n",
        "    - 順序データ\n",
        "      - 順序や大小関係に意味があるようなデータ\n",
        "        - 例：５段階評価の成績，教育水準など\n",
        "        - 成績でSランクはAランクより優れているという意味が与えられる\n",
        "  - 時系列データ\n",
        "    - 時系列に沿って得られるデータ．上記とは異なる分析方法が必要なことが多い\n",
        "    - 例：株価，音声データ，気温\n",
        "- 非構造化データ\n",
        "  - 構造化データはコンピュータにも人間にも分かりやすい形式である一方，非構造化データは読み取ったり解釈しやすいような明確な構造を持たない.  \n",
        "  このようなデータは構造化データや時系列データとは異なる手法で解析する必要がある．\n",
        "  - 例：画像，動画，時空間データ，地理データ\n"
      ]
    },
    {
      "cell_type": "markdown",
      "metadata": {
        "id": "3oKGVJ_lHSDw"
      },
      "source": [
        "### 数学的な準備\n",
        "\n",
        "#### 掛け算の表記\n",
        "$x$を$n$回足すことを下記のように表記する  \n",
        "$n\\times x = nx = x + x + ... + x$\n",
        "#### 例\n",
        "$3x = x + x + x$  \n",
        "$3\\times4 = 3 + 3 + 3 + 3 = 12$\n",
        "\n",
        "#### 割り算の表記\n",
        "$x$で$y$を割ることを下記のように表記する\n",
        "$x\\div y = \\frac{x}{y}$\n",
        "\n",
        "#### 例\n",
        "$3 \\div 6 = \\frac{3}{6} = \\frac{1}{2}$\n",
        "\n",
        "#### 絶対値\n",
        "絶対値とは数値の符号を無視して得られる数のことを指す  \n",
        "絶対値は数直線上の原点からの「距離」に当たる  \n",
        "\n",
        "#### 例\n",
        "$|-3|=3$  \n",
        "$|40|=40$\n",
        "\n",
        "#### 平方根\n",
        "nの平方根とは，二乗してnになるような数のことを指し，下記のように表記する  \n",
        "\n",
        "$\\sqrt{n}$\n",
        "\n",
        "#### 例\n",
        "$\\sqrt{4}=\\pm2$  \n",
        "二乗して4になる数は$-2$と$2$\n",
        "\n",
        "$\\sqrt{2}\\simeq 1.41421356237$\n",
        "二乗すると丁度2になる数を計算するとこのような値になる\n",
        "\n",
        "### 指数\n",
        "$x$を$n$回掛け算することを下記のように表す  \n",
        "$x^n = x \\times x \\times ... \\times x$  \n",
        "このとき，$x$を底，$n$を指数と呼ぶ  \n",
        "指数は次のような性質を持つ  \n",
        "- $x^0 = 1$\n",
        "  - 指数が0なら底がいくつであっても1\n",
        "- $x^{-n} = \\frac{1}{x^n}$\n",
        "  - 指数がマイナスになるときは，逆数を取る\n",
        "- $x^{\\frac{1}{n}} = \\sqrt[n]{x}$\n",
        "  - 指数に分数が含まれるときは，分母乗の根を取る\n",
        "- $x^{n} \\times x^{m} = x^{n+m}$\n",
        "  - 同じ底の指数を掛け算するとき，指数は足し算になる\n",
        "- $(x^{n})^m = x^{nm}$\n",
        "  - $x$の$n$乗をさらに$m$乗すると，$nm$乗になる\n",
        "- $(xy)^n = x^{n}y^{n}$\n",
        "  - $x$と$y$の掛け算が$n$乗になっている時，$x$の$n$乗と$y$の$n$乗の掛け算に分解できる\n",
        "- $x^n \\div x^m = \\frac{x^n}{x^m} = x^{n-m}$ \n",
        "  - 同じ底のの割り算は指数の引き算になる\n",
        "\n",
        "#### 例\n",
        "- $2^{-3} = \\frac{1}{2^3} = \\frac{1}{8}$  \n",
        "- $3^{\\frac{1}{2}} = \\sqrt{3}$\n",
        "- $2^{\\frac{3}{4}} = \\sqrt[4]{2^3}$\n",
        "- $(2^2)^3 = (2 \\times 2)^3 = (4)^3 = 4 \\times 4 \\times 4 = 164 = 2^8$\n",
        "- $(2 \\times 3)^2 = (6)^2 = 36 = 2^2 \\times 3^2 = 4 \\times 9$\n",
        "- $2^2 \\div 2^3 = \\frac{4}{8} = \\frac{1}{2} = 2^{2-3} = 2^{-1}$\n",
        "### 対数\n",
        "指数とは，底を指数回掛け算するものであった．  \n",
        "対数とは反対に何回掛け算すれば底になるのかを示す値である．\n",
        "一般に  \n",
        "$x^n = y$となるようなnを$n=\\log_x y$と表記する.  \n",
        "このとき，xを底，yを真数と呼ぶ．真数は必ず正の値を取る(n乗して負になる数は実数の範囲には無いため)\n",
        "対数関数の主な性質は下記の通り  \n",
        "\n",
        "- $\\log_a N + \\log_b M = \\log_a NM$\n",
        "  - 底が同じ，対数の足し算は真数の掛け算になる\n",
        "- $l\\log_a M^p = p \\log_a M$\n",
        "  - 真数が指数で表されるとき，その指数を前に出せる\n",
        "- $\\log_a \\frac{1}{M} = -\\log_a M$\n",
        "  - 真数が分数のとき，分母の対数をマイナスしたものと値が等しい\n",
        "- $\\log_a M - \\log_a N = \\log_a \\frac{M}{N}$\n",
        "  - 同じ底の対数どうしの引き算は，引かれる数が分子の分数となる\n",
        "- $\\log_a 1 = 0$\n",
        "  - 真数が1のとき，底がいかなる値でもその値は0になる\n",
        "- $\\log_a N = \\frac{log_b N}{log_c a}$\n",
        "  - 対数は，新たな底bを導入することで，それぞれ元の対数の底を真数とした対数を分母，元の対数の真数を真数とした対数を分子とした新たな式で表すことができる\n",
        "\n",
        "#### 例\n",
        "- $\\log_2 4 = 2 \\Leftrightarrow 2^2 = 4$\n",
        "- $\\log_2 3 + \\log_2 5 = \\log_2 3 \\times 5 = \\log_2 15$\n",
        "- $\\log_2 2^3 = 3\\log_2 2 = 3 \\times 1 = 3$\n",
        "- $\\log_2 \\frac{1}{3} = -\\log_2 3$\n",
        "- $\\log_2 1 = 0$\n",
        "- $\\log_2 3 = \\frac{log_5 3}{log_5 2}$\n",
        "\n",
        "\n",
        "#### Σ表記\n",
        "統計学においては，大量に足し算を行いたい場面が幾つかある．  \n",
        "例えば平均値を求めるためには,対象となるデータをすべて足し合わせる必要がある.  \n",
        "例えば，気温に関するデータが次のように得られたとする．  \n",
        "\n",
        "$$12 13 15 16 10 12 11$$\n",
        "\n",
        "この平均を求めるためには  \n",
        "\n",
        "$$12+13+15+16+10+12+11$$\n",
        "\n",
        "の値を求め，それを7で割る必要がある．  \n",
        "しかし，データの数が100個や200個，1000個などと増えた時に，このような表記をするのが効率が悪い.\n",
        "\n",
        "そこで，$i$番目に得られたデータを$x_i$と表記することにする．\n",
        "データが全部で100個ある時，そのの合計値は，  \n",
        "\n",
        "$$x_1 + x_2 + ... + x_{99} + x_{100}$$\n",
        "\n",
        "となる．  \n",
        "この数式と同じ意味を持つのが$\\sum$であり，次のように書き換えることができる.\n",
        "\n",
        "$$\\sum_{i=1}^{100} x_i = x_1 + x_2 + ... + x_{99} + x_{100}$$\n",
        "\n",
        "この数式の意味は，「$x_i$が各データであり，$i$を1から100まで1ずつ増やしながら全て足す」である.  \n",
        "従って，平均$\\bar{x}$は下記のように表現できる.\n",
        "\n",
        "$$ \\bar{x} = \\frac{1}{100} \\sum_{i=1}^{100} x_i$$\n",
        "\n",
        "より一般化して，データが$n$個あるときは，\n",
        "\n",
        "$$ \\bar{x} = \\frac{1}{n} \\sum_{i=1}^{n} x_i$$\n",
        "\n",
        "となる."
      ]
    },
    {
      "cell_type": "markdown",
      "metadata": {},
      "source": [
        "## 数式の処理\n",
        "\n",
        "ここまでに学んだ各種数式をpythonで計算してみよう"
      ]
    },
    {
      "cell_type": "markdown",
      "metadata": {},
      "source": [
        "### 四則演算"
      ]
    },
    {
      "cell_type": "code",
      "execution_count": 45,
      "metadata": {},
      "outputs": [],
      "source": [
        "# 使用する定数の準備\n",
        "\n",
        "a = 14\n",
        "b = 23"
      ]
    },
    {
      "cell_type": "code",
      "execution_count": 46,
      "metadata": {},
      "outputs": [
        {
          "name": "stdout",
          "output_type": "stream",
          "text": [
            "37\n",
            "-9\n",
            "322\n",
            "0.6086956521739131\n",
            "0\n",
            "0.6087\n"
          ]
        }
      ],
      "source": [
        "# 足し算\n",
        "print(a + b)\n",
        "\n",
        "# 引き算\n",
        "print(a - b)\n",
        "\n",
        "# 掛け算\n",
        "print(a * b)\n",
        "\n",
        "# 割り算\n",
        "print(a / b)\n",
        "print(a // b) #　少数切り捨て\n",
        "print(round(a/b,4)) # 少数丸め"
      ]
    },
    {
      "cell_type": "markdown",
      "metadata": {},
      "source": [
        "### 絶対値"
      ]
    },
    {
      "cell_type": "code",
      "execution_count": 47,
      "metadata": {},
      "outputs": [
        {
          "name": "stdout",
          "output_type": "stream",
          "text": [
            "21\n"
          ]
        }
      ],
      "source": [
        "c = -21\n",
        "\n",
        "print(abs(c))"
      ]
    },
    {
      "cell_type": "markdown",
      "metadata": {},
      "source": [
        "### 指数"
      ]
    },
    {
      "cell_type": "code",
      "execution_count": 48,
      "metadata": {},
      "outputs": [
        {
          "name": "stdout",
          "output_type": "stream",
          "text": [
            "4\n",
            "81\n",
            "0.5\n",
            "0.3333333333333333\n",
            "1.4142135623730951\n",
            "1.7320508075688772\n"
          ]
        }
      ],
      "source": [
        "print(2**2)\n",
        "print(3**4)\n",
        "\n",
        "# 負の指数\n",
        "print(2**(-1))\n",
        "print(3**(-1))\n",
        "\n",
        "# 分数の指数\n",
        "print(2**(1/2))\n",
        "print(3**(1/2))\n"
      ]
    },
    {
      "cell_type": "markdown",
      "metadata": {},
      "source": [
        "### 対数"
      ]
    },
    {
      "cell_type": "code",
      "execution_count": 49,
      "metadata": {},
      "outputs": [
        {
          "name": "stdout",
          "output_type": "stream",
          "text": [
            "2.0\n",
            "1.5849625007211563\n"
          ]
        }
      ],
      "source": [
        "# 対数の計算を行うにはmathモジュールを使用する\n",
        "import math\n",
        "\n",
        "# math.log(x,y)とすることで，yを底としたxの対数を計算できる\n",
        "\n",
        "print(math.log(4,2)) \n",
        "print(math.log(3,2)) "
      ]
    },
    {
      "cell_type": "markdown",
      "metadata": {},
      "source": [
        "### 演習問題\n",
        "底を2として，指数を1から-10から10まで1ずつ増やして計算した結果をリストexponent_listに格納せよ.  \n",
        "また，exponent_listを可視化せよ."
      ]
    },
    {
      "cell_type": "code",
      "execution_count": 50,
      "metadata": {},
      "outputs": [
        {
          "data": {
            "image/png": "[encoded data removed]",
            "text/plain": [
              "<Figure size 1000x500 with 1 Axes>"
            ]
          },
          "metadata": {},
          "output_type": "display_data"
        }
      ],
      "source": [
        "exponent_list = []\n",
        "for i in range(-10,11):\n",
        "    exponent_list.append(2**i)\n",
        "\n",
        "plt.figure(figsize=[10,5])\n",
        "plt.plot(exponent_list)\n",
        "plt.show()"
      ]
    },
    {
      "cell_type": "markdown",
      "metadata": {},
      "source": [
        "### 演習問題\n",
        "底を2として，真数を1から1から20まで1ずつ増やして計算した結果をリストlog_listに格納せよ.  \n",
        "また，log_listを可視化せよ."
      ]
    },
    {
      "cell_type": "code",
      "execution_count": 51,
      "metadata": {},
      "outputs": [
        {
          "data": {
            "image/png": "[encoded data removed]",
            "text/plain": [
              "<Figure size 1000x500 with 1 Axes>"
            ]
          },
          "metadata": {},
          "output_type": "display_data"
        }
      ],
      "source": [
        "log_list = []\n",
        "for i in range(1,21):\n",
        "    log_list.append(math.log(i,2))\n",
        "\n",
        "plt.figure(figsize=[10,5])\n",
        "plt.plot(log_list)\n",
        "plt.show()"
      ]
    },
    {
      "cell_type": "markdown",
      "metadata": {},
      "source": [
        "### Σの演算\n",
        "x = [1,2,3,4,5,6,7,8,9,10,11,12,13,14,15,16,17,18,19,20]   \n",
        "\n",
        "とする．\n",
        "$$ y = \\sum_{i=1}^{20} x_i$$\n",
        "\n",
        "を計算してみる．\n",
        "これはxの要素を一つづつ取り出して，全て足す作業であるため，下記のようにコーディングできる."
      ]
    },
    {
      "cell_type": "code",
      "execution_count": 52,
      "metadata": {},
      "outputs": [
        {
          "name": "stdout",
          "output_type": "stream",
          "text": [
            "210\n"
          ]
        }
      ],
      "source": [
        "x = [1,2,3,4,5,6,7,8,9,10,11,12,13,14,15,16,17,18,19,20]\n",
        "y = 0\n",
        "\n",
        "for i in x:\n",
        "    y += i\n",
        "    \n",
        "print(y)"
      ]
    },
    {
      "cell_type": "markdown",
      "metadata": {},
      "source": [
        "次に,\n",
        "\n",
        "$$ z = \\sum_{i=1}^{20} (x_i)^2$$\n",
        "\n",
        "を計算してみる．Σを展開してみると下記のようになる.\n",
        "\n",
        "$$ z = \\sum_{i=1}^{20} (x_i)^2 = x_1^2 + x_2^2 + ... x_{19}^2 + x_{20}^2$$\n",
        "\n",
        "つまり，各xの要素を２乗してから足している．従って，下記のようにコーディングできる"
      ]
    },
    {
      "cell_type": "code",
      "execution_count": 53,
      "metadata": {},
      "outputs": [
        {
          "name": "stdout",
          "output_type": "stream",
          "text": [
            "2870\n"
          ]
        }
      ],
      "source": [
        "x = [1,2,3,4,5,6,7,8,9,10,11,12,13,14,15,16,17,18,19,20]\n",
        "z = 0\n",
        "\n",
        "for i in x:\n",
        "    z += (i)**2\n",
        "    \n",
        "print(z)"
      ]
    },
    {
      "cell_type": "markdown",
      "metadata": {
        "id": "N9OvV4OruO21"
      },
      "source": [
        "### 宿題\n",
        "リストa \n",
        "`a = [1,4,2,7,4,6,10]`  \n",
        "が与えられます。このリストの平均値を計算する関数averageを記述してください。  \n",
        "尚，平均値は各データを$x_i (i=1,2,...,n)$とするとき，下記の式で与えられる.\n",
        "\n",
        "$$ \\bar{x} = \\frac{1}{n} \\sum_{i=1}^{n} x_i$$"
      ]
    },
    {
      "cell_type": "code",
      "execution_count": 54,
      "metadata": {
        "colab": {
          "base_uri": "https://localhost:8080/"
        },
        "id": "YXaupraPumRB",
        "outputId": "51c31590-b6d3-49dc-c844-50f29e202361"
      },
      "outputs": [
        {
          "name": "stdout",
          "output_type": "stream",
          "text": [
            "4.857142857142857\n"
          ]
        }
      ],
      "source": [
        "def average(a:list) -> float:\n",
        "    return sum(a)/len(a)\n",
        "\n",
        "a = [1,4,2,7,4,6,10]\n",
        "print(average(a))"
      ]
    },
    {
      "cell_type": "markdown",
      "metadata": {
        "id": "vntq9IAXvAEA"
      },
      "source": [
        "### 宿題\n",
        "リストa  \n",
        "`a = [1,4,2,7,4,6,10]`  \n",
        "が与えられます。このリストの分散を計算する関数varを記述せよ。  \n",
        "尚，平均値は各データを$x_i (i=1,2,...,n)$，平均値を$\\bar{x}$とするとき，下記の式で与えられる.\n",
        "\n",
        "$$ var = \\frac{1}{n} \\sum_{i=1}^{n} (x_i - \\bar{x})^2$$"
      ]
    },
    {
      "cell_type": "code",
      "execution_count": 55,
      "metadata": {
        "colab": {
          "base_uri": "https://localhost:8080/"
        },
        "id": "eD_-6ZFJwAy1",
        "outputId": "dbc546a6-10b3-46ad-87c6-fea84c4b44a5"
      },
      "outputs": [
        {
          "name": "stdout",
          "output_type": "stream",
          "text": [
            "56.85714285714286\n"
          ]
        }
      ],
      "source": [
        "def var(a:list) -> float:\n",
        "    ave = average(a)\n",
        "    res = 0\n",
        "    for i in a:\n",
        "      res = res + (i - ave)**2\n",
        "    return res\n",
        "\n",
        "print(var(a))"
      ]
    },
    {
      "cell_type": "markdown",
      "metadata": {},
      "source": [
        "### 参考文献\n",
        "- 松原望, 縄田和満, 中井検裕, & 統計学入門. (1991). 東京大学教養学部統計学教室 (編)"
      ]
    }
  ],
  "metadata": {
    "colab": {
      "provenance": []
    },
    "kernelspec": {
      "display_name": "Python 3.9.6 64-bit",
      "language": "python",
      "name": "python3"
    },
    "language_info": {
      "codemirror_mode": {
        "name": "ipython",
        "version": 3
      },
      "file_extension": ".py",
      "mimetype": "text/x-python",
      "name": "python",
      "nbconvert_exporter": "python",
      "pygments_lexer": "ipython3",
      "version": "3.9.6"
    },
    "vscode": {
      "interpreter": {
        "hash": "31f2aee4e71d21fbe5cf8b01ff0e069b9275f58929596ceb00d14d90e3e16cd6"
      }
    }
  },
  "nbformat": 4,
  "nbformat_minor": 0
}
